{
 "cells": [
  {
   "cell_type": "code",
   "execution_count": 30,
   "metadata": {},
   "outputs": [],
   "source": [
    "## To Fix the seeds (random number generators) and obtian reproducible results\n",
    "\n",
    "import os\n",
    "####*IMPORANT*: Have to do this line *before* importing tensorflow\n",
    "os.environ['PYTHONHASHSEED']=str(1)\n",
    "\n",
    "import tensorflow as tf\n",
    "import tensorflow.keras as keras\n",
    "from tensorflow.keras import layers \n",
    "from tensorflow.keras import models\n",
    "import random\n",
    "import pandas as pd\n",
    "import numpy as np\n",
    "import sklearn\n",
    "import matplotlib.pyplot as plt\n",
    "\n",
    "def reset_random_seeds():\n",
    "   os.environ['PYTHONHASHSEED']=str(1)\n",
    "   tf.random.set_seed(1)\n",
    "   np.random.seed(1)\n",
    "   random.seed(1)"
   ]
  },
  {
   "cell_type": "code",
   "execution_count": 2,
   "metadata": {},
   "outputs": [],
   "source": [
    "## With randomness (do not run the previous cell)\n",
    "\n",
    "#import tensorflow as tf\n",
    "#import tensorflow.keras as keras\n",
    "#import tensorflow.keras.layers \n",
    "#import random\n",
    "#import pandas as pd\n",
    "#import numpy as np\n",
    "#import sklearn\n",
    "#import matplotlib.pyplot as plt"
   ]
  },
  {
   "cell_type": "code",
   "execution_count": 32,
   "metadata": {},
   "outputs": [],
   "source": [
    "#from keras import models\n",
    "#from keras import layers\n",
    "\n",
    "from sklearn import preprocessing\n",
    "from sklearn.model_selection import train_test_split\n",
    "import numpy as np\n",
    "import pandas as pd\n",
    "import torch\n",
    "import torch.nn as nn"
   ]
  },
  {
   "cell_type": "markdown",
   "metadata": {},
   "source": [
    "## Load the data\n",
    "\n",
    "To avoid issues due to confusion between numerical and non-numerical data, the file `Raw_Phys_Descrip.txt` consists of all the numerical physical descriptors (i.e. all the variables except `Config`). The correponding entry of `Config` are directly define in the cell below.    "
   ]
  },
  {
   "cell_type": "code",
   "execution_count": 4,
   "metadata": {},
   "outputs": [],
   "source": [
    "#PhyD = np.genfromtxt('Data/Phys_Descrip.txt', dtype=None, encoding=None, delimiter=',', names=True)"
   ]
  },
  {
   "cell_type": "code",
   "execution_count": 33,
   "metadata": {},
   "outputs": [],
   "source": [
    "# Do not modify Config\n",
    "\n",
    "PhyD_Names = ['N', 'infa_C_Au', 'infa_S_Mg', 'infa_S_O', 'cc', 'cs_Mg', 'cs_O', \n",
    "             'ave_GCN', 'csDist_Mg', 'csDist_O', 'Zdist', 'Ecoh', 'Eadh', 'Eb', 'Etot']\n",
    "PhyD = np.loadtxt('DataRaw_Phys_Descrip.txt', delimiter=',', dtype=float)\n",
    "    \n",
    "Config = np.concatenate((np.repeat('1Au',104), np.repeat('2Au',104), np.repeat('3Au',105), \n",
    "                         np.repeat('4Au_a',102), np.repeat('4Au_b',45), np.repeat('4Au_c',103), \n",
    "                         np.repeat('4Au_d',104), np.repeat('4Au_e',105), np.repeat('4Au_f',96), \n",
    "                         np.repeat('5Au_a',103), np.repeat('5Au_b',103), np.repeat('5Au_c',103),\n",
    "                         np.repeat('5Au_d',104), np.repeat('5AU_e',102),\n",
    "                         np.repeat('6Au_a',105), np.repeat('6Au_b',105), \n",
    "                         np.repeat('9Au_a',99), np.repeat('9Au_b',79), \n",
    "                         np.repeat('12Au_a',12), \n",
    "                         np.repeat('24Au_b',56)))\n",
    "\n",
    "Cl_XYZ = pd.DataFrame.to_numpy(pd.read_csv('Data/Cluster_XYZ.csv', header=None, names=range(3*24)) )\n",
    "\n",
    "Nobs = PhyD.shape[0]"
   ]
  },
  {
   "cell_type": "code",
   "execution_count": 34,
   "metadata": {},
   "outputs": [
    {
     "data": {
      "text/plain": [
       "(1839, 15)"
      ]
     },
     "execution_count": 34,
     "metadata": {},
     "output_type": "execute_result"
    }
   ],
   "source": [
    "PhyD.shape"
   ]
  },
  {
   "cell_type": "code",
   "execution_count": 35,
   "metadata": {},
   "outputs": [
    {
     "data": {
      "text/plain": [
       "array([[ 0.     ,  0.     ,  8.30346, ...,      nan,      nan,      nan],\n",
       "       [ 0.     ,  0.     ,  8.76476, ...,      nan,      nan,      nan],\n",
       "       [ 0.     ,  0.     ,  9.22606, ...,      nan,      nan,      nan],\n",
       "       ...,\n",
       "       [ 2.11303,  2.11303,  9.22606, ...,      nan,      nan,      nan],\n",
       "       [ 2.11303,  2.11303,  9.68736, ...,      nan,      nan,      nan],\n",
       "       [ 2.11303,  2.11303, 10.14867, ...,      nan,      nan,      nan]])"
      ]
     },
     "execution_count": 35,
     "metadata": {},
     "output_type": "execute_result"
    }
   ],
   "source": [
    "Cl_XYZ[Ind_4Au,]"
   ]
  },
  {
   "cell_type": "code",
   "execution_count": 36,
   "metadata": {},
   "outputs": [
    {
     "name": "stdout",
     "output_type": "stream",
     "text": [
      "Entry number 388\n",
      "\n",
      "N = 4.0\n",
      "infa_C_Au = 0.0\n",
      "infa_S_Mg = 0.0\n",
      "infa_S_O = 0.0\n",
      "cc = 2.5\n",
      "cs_Mg = 0.0\n",
      "cs_O = 0.0\n",
      "ave_GCN = 3.513\n",
      "csDist_Mg = 3.645\n",
      "csDist_O = 0.828\n",
      "Zdist = 0.542\n",
      "Ecoh = -1.544\n",
      "Eadh = -1.658\n",
      "Eb = -1.959\n",
      "Etot = -376.473\n",
      "Config = 4Au_a\n",
      "\n",
      "\n",
      "Atomic coordinates (rows are the coordinates of each atom):\n",
      "\n",
      "[[2.11303 2.11303 9.68736]\n",
      " [4.74258 1.37078 9.68736]\n",
      " [1.37078 4.74258 9.68736]\n",
      " [3.99494 3.99494 9.68736]]\n"
     ]
    }
   ],
   "source": [
    "# Recall: in python, numbering start from 0 (and from 1 in R) \n",
    "entry_nb = 388 \n",
    "\n",
    "N_atom = int(PhyD[entry_nb,0])\n",
    " \n",
    "Mat_XYZ = (Cl_XYZ[entry_nb, :(3*N_atom)]).reshape((N_atom, 3))\n",
    "\n",
    "print('Entry number %s\\n' % (entry_nb))\n",
    "\n",
    "for i in range(15):\n",
    "    print('%s = %s' % (PhyD_Names[i], PhyD[entry_nb,i]))\n",
    "\n",
    "print('Config = %s' % Config[entry_nb])\n",
    "    \n",
    "print('\\n')\n",
    "print('Atomic coordinates (rows are the coordinates of each atom):\\n')\n",
    "print(Mat_XYZ)"
   ]
  },
  {
   "cell_type": "markdown",
   "metadata": {},
   "source": [
    "## Considering only the nano-clusters with 4 atoms "
   ]
  },
  {
   "cell_type": "code",
   "execution_count": 37,
   "metadata": {},
   "outputs": [
    {
     "name": "stdout",
     "output_type": "stream",
     "text": [
      "(555,)\n"
     ]
    }
   ],
   "source": [
    "# Indices for N=4\n",
    "\n",
    "Ind_4Au = np.array(range(Nobs))[PhyD[:,0]==4]\n",
    "print(Ind_4Au.shape)"
   ]
  },
  {
   "cell_type": "code",
   "execution_count": 38,
   "metadata": {},
   "outputs": [
    {
     "name": "stdout",
     "output_type": "stream",
     "text": [
      "(555, 12)\n"
     ]
    }
   ],
   "source": [
    "# Atomic coordinates for N=4\n",
    "\n",
    "Au4_XYZ = (Cl_XYZ[Ind_4Au, :(3*N_atom)])\n",
    "print(Au4_XYZ.shape)"
   ]
  },
  {
   "cell_type": "code",
   "execution_count": 39,
   "metadata": {},
   "outputs": [
    {
     "data": {
      "text/plain": [
       "array([[ 0.     ,  0.     ,  8.30346, ...,  1.88191,  1.88191,  8.30346],\n",
       "       [ 0.     ,  0.     ,  8.76476, ...,  1.88191,  1.88191,  8.76476],\n",
       "       [ 0.     ,  0.     ,  9.22606, ...,  1.88191,  1.88191,  9.22606],\n",
       "       ...,\n",
       "       [ 2.11303,  2.11303,  9.22606, ...,  4.7883 ,  4.7883 ,  9.22606],\n",
       "       [ 2.11303,  2.11303,  9.68736, ...,  4.7883 ,  4.7883 ,  9.68736],\n",
       "       [ 2.11303,  2.11303, 10.14867, ...,  4.78828,  4.78828, 10.14867]])"
      ]
     },
     "execution_count": 39,
     "metadata": {},
     "output_type": "execute_result"
    }
   ],
   "source": [
    "Au4_XYZ"
   ]
  },
  {
   "cell_type": "code",
   "execution_count": 40,
   "metadata": {},
   "outputs": [
    {
     "data": {
      "text/plain": [
       "555"
      ]
     },
     "execution_count": 40,
     "metadata": {},
     "output_type": "execute_result"
    }
   ],
   "source": [
    "sum(np.sum(np.isnan(Au4_XYZ), axis=1) == 0)"
   ]
  },
  {
   "cell_type": "code",
   "execution_count": 41,
   "metadata": {},
   "outputs": [
    {
     "name": "stdout",
     "output_type": "stream",
     "text": [
      "(555,)\n"
     ]
    }
   ],
   "source": [
    "# Etot for N=4\n",
    "\n",
    "Au4_Etot = PhyD[Ind_4Au,14]\n",
    "print(Au4_Etot.shape)"
   ]
  },
  {
   "cell_type": "markdown",
   "metadata": {},
   "source": [
    "### Standardisation of the data set for N=4\n",
    "\n",
    "For each column, we set the sample mean to $0$ and the sample variance to $1$."
   ]
  },
  {
   "cell_type": "code",
   "execution_count": 42,
   "metadata": {},
   "outputs": [],
   "source": [
    "scaler1 = preprocessing.StandardScaler().fit(Au4_XYZ) \n",
    "\n",
    "Au4_XYZ_scaled = scaler1.transform(Au4_XYZ)\n",
    "#print(Au4_XYZ_scaled.mean(axis=0))\n",
    "#print(Au4_XYZ_scaled.std(axis=0))\n",
    "\n",
    "Au4_Etot_scaled = (Au4_Etot - np.mean(Au4_Etot))/np.std(Au4_Etot)\n",
    "#print(np.mean(Au4_Etot_scaled))\n",
    "#print(np.std(Au4_Etot_scaled))"
   ]
  },
  {
   "cell_type": "code",
   "execution_count": 27,
   "metadata": {
    "scrolled": true
   },
   "outputs": [
    {
     "data": {
      "text/plain": [
       "array([-369.49 , -376.095, -376.96 , -376.473, -375.874, -369.815,\n",
       "       -376.207, -376.962, -376.463, -375.877, -369.8  , -376.172,\n",
       "       -376.983, -376.484, -375.879, -375.899, -370.926, -376.491,\n",
       "       -377.134, -376.543, -375.882, -370.604, -376.407, -377.099,\n",
       "       -376.511, -372.489, -377.149, -377.409, -376.59 , -375.915,\n",
       "       -371.82 , -376.97 , -377.338, -376.601, -375.896, -376.712,\n",
       "       -377.228, -376.57 , -375.888, -370.761, -376.465, -377.11 ,\n",
       "       -376.533, -375.88 , -370.267, -376.295, -377.197, -376.504,\n",
       "       -375.885, -372.228, -377.239, -377.458, -376.632, -375.921,\n",
       "       -372.158, -377.426, -376.623, -371.982, -376.955, -377.322,\n",
       "       -376.592, -375.909, -371.243, -376.638, -377.172, -376.544,\n",
       "       -375.879, -370.168, -376.291, -377.029, -376.497, -375.868,\n",
       "       -369.486, -376.097, -376.96 , -376.473, -375.874, -370.971,\n",
       "       -376.537, -371.449, -375.918, -376.547, -377.096, -376.503,\n",
       "       -375.873, -370.538, -376.384, -377.065, -375.887, -370.55 ,\n",
       "       -376.368, -377.036, -376.521, -375.891, -372.153, -376.905,\n",
       "       -377.247, -376.578, -375.886, -371.369, -376.688, -377.203,\n",
       "       -373.548, -370.64 , -371.951, -372.156, -373.997, -374.812,\n",
       "       -374.876, -375.393, -372.441, -373.536, -375.801, -375.669,\n",
       "       -372.659, -373.422, -372.571, -372.891, -372.388, -372.365,\n",
       "       -372.221, -375.866, -371.789, -375.638, -375.799, -373.407,\n",
       "       -372.544, -374.797, -375.382, -373.947, -372.119, -369.639,\n",
       "       -373.548, -370.636, -372.378, -375.315, -375.491, -373.404,\n",
       "       -373.57 , -375.549, -372.559, -373.368, -372.501, -371.513,\n",
       "       -375.019, -375.291, -375.616, -371.449, -376.722, -377.194,\n",
       "       -376.571, -375.889, -370.913, -376.504, -377.14 , -376.521,\n",
       "       -375.897, -370.721, -376.416, -377.104, -376.535, -375.882,\n",
       "       -375.884, -371.875, -376.955, -377.289, -376.573, -375.897,\n",
       "       -372.158, -377.167, -377.426, -376.596, -375.902, -370.635,\n",
       "       -376.451, -377.086, -376.522, -375.872, -371.793, -376.873,\n",
       "       -377.277, -376.573, -375.886, -377.131, -377.354, -376.586,\n",
       "       -375.898, -372.138, -377.238, -377.456, -376.604, -375.921,\n",
       "       -371.991, -377.173, -377.429, -376.597, -375.904, -371.62 ,\n",
       "       -376.69 , -377.242, -376.554, -375.892, -372.378, -377.015,\n",
       "       -377.356, -372.777, -377.161, -377.447, -376.615, -375.895,\n",
       "       -372.507, -377.155, -377.41 , -376.59 , -375.9  , -371.933,\n",
       "       -376.985, -377.343, -376.575, -375.898, -371.444, -376.66 ,\n",
       "       -377.234, -376.547, -370.456, -376.554, -372.426, -375.887,\n",
       "       -376.363, -377.065, -376.497, -375.876, -370.88 , -376.484,\n",
       "       -377.13 , -376.541, -375.883, -371.471, -376.71 , -377.228,\n",
       "       -376.57 , -375.889, -370.37 , -376.357, -377.054, -376.487,\n",
       "       -375.886, -371.192, -376.662, -377.191, -369.94 , -376.6  ,\n",
       "       -377.313, -376.782, -376.147, -370.338, -376.697, -377.353,\n",
       "       -376.767, -376.131, -371.764, -376.882, -377.454, -376.809,\n",
       "       -376.127, -376.125, -372.48 , -377.072, -377.514, -376.795,\n",
       "       -376.127, -371.936, -377.423, -376.809, -376.143, -372.471,\n",
       "       -377.29 , -377.613, -376.828, -376.121, -372.717, -377.222,\n",
       "       -377.578, -376.8  , -376.123, -377.028, -377.492, -376.817,\n",
       "       -376.127, -370.795, -376.771, -377.384, -376.796, -376.13 ,\n",
       "       -369.845, -376.619, -377.322, -376.76 , -376.132, -372.814,\n",
       "       -377.345, -377.637, -376.831, -376.137, -372.909, -377.255,\n",
       "       -377.541, -376.829, -372.077, -377.01 , -377.483, -376.815,\n",
       "       -376.128, -370.448, -376.691, -377.352, -376.789, -376.131,\n",
       "       -369.396, -376.506, -377.275, -376.774, -376.133, -369.94 ,\n",
       "       -376.601, -377.313, -376.76 , -376.132, -371.082, -376.825,\n",
       "       -372.118, -376.121, -376.915, -377.409, -376.78 , -376.127,\n",
       "       -372.206, -377.033, -377.497, -376.818, -376.127, -372.556,\n",
       "       -377.123, -377.537, -376.8  , -376.125, -371.883, -377.134,\n",
       "       -377.501, -376.819, -376.124, -372.489, -377.137, -377.543,\n",
       "       -371.341, -377.056, -377.616, -376.975, -376.317, -371.685,\n",
       "       -377.114, -377.595, -376.981, -376.319, -370.909, -376.846,\n",
       "       -377.473, -376.943, -376.333, -372.555, -377.484, -377.803,\n",
       "       -377.034, -376.335, -372.57 , -377.463, -377.786, -377.029,\n",
       "       -376.316, -372.65 , -377.48 , -377.75 , -377.032, -376.334,\n",
       "       -373.325, -377.726, -377.898, -377.034, -376.324, -377.809,\n",
       "       -377.958, -377.047, -376.348, -373.307, -377.627, -377.89 ,\n",
       "       -377.032, -376.324, -372.574, -377.445, -377.733, -377.027,\n",
       "       -376.314, -372.552, -377.504, -377.813, -377.045, -376.335,\n",
       "       -373.602, -377.822, -377.937, -377.147, -372.332, -377.252,\n",
       "       -377.685, -377.   , -376.324, -371.782, -377.129, -377.641,\n",
       "       -376.983, -376.32 , -371.524, -377.085, -377.735, -376.978,\n",
       "       -376.319, -372.693, -377.394, -377.747, -376.99 , -376.33 ,\n",
       "       -372.508, -377.466, -377.789, -376.309, -377.004, -373.437,\n",
       "       -376.349, -374.041, -377.933, -377.978, -377.093, -376.354,\n",
       "       -373.542, -377.796, -377.928, -377.076, -376.329, -372.443,\n",
       "       -377.461, -377.795, -377.032, -376.334, -371.343, -377.056,\n",
       "       -377.617, -376.974, -376.317, -370.702, -376.305, -376.707,\n",
       "       -376.019, -375.346, -371.139, -376.231, -376.649, -376.018,\n",
       "       -375.315, -371.211, -376.132, -376.657, -376.006, -375.339,\n",
       "       -375.34 , -371.291, -376.092, -376.659, -376.007, -375.339,\n",
       "       -371.113, -376.159, -376.674, -375.941, -370.618, -376.331,\n",
       "       -376.715, -376.021, -362.065, -371.177, -376.304, -371.059,\n",
       "       -376.024, -375.318, -376.278, -376.722, -376.026, -375.317,\n",
       "       -371.002, -362.915, -376.717, -370.518, -376.351, -376.718,\n",
       "       -375.348, -370.897, -376.414, -376.754, -376.034, -371.674,\n",
       "       -376.49 , -376.799, -376.049, -376.208, -376.696, -375.988,\n",
       "       -375.343, -367.133, -376.055, -376.647, -375.973, -371.306,\n",
       "       -376.061, -376.569, -376.   , -368.585, -371.001, -376.249,\n",
       "       -376.672, -375.977, -375.344, -371.174, -376.162, -376.634,\n",
       "       -371.332, -362.062, -371.412, -372.025, -376.529, -376.814,\n",
       "       -376.056, -371.42 , -376.453, -376.786, -376.045, -375.353,\n",
       "       -370.717, -370.037, -376.003, -375.35 , -370.702, -373.327,\n",
       "       -370.637, -376.019, -375.346])"
      ]
     },
     "execution_count": 27,
     "metadata": {},
     "output_type": "execute_result"
    }
   ],
   "source": [
    "Au4_Etot"
   ]
  },
  {
   "cell_type": "markdown",
   "metadata": {},
   "source": [
    "### Spliting the data into a training set and a test set "
   ]
  },
  {
   "cell_type": "code",
   "execution_count": 43,
   "metadata": {},
   "outputs": [],
   "source": [
    "reset_random_seeds() # reset the random seed\n",
    "\n",
    "X_4Au_train, X_4Au_test, y_4Au_train, y_4Au_test = train_test_split(Au4_XYZ_scaled, \n",
    "                                                    Au4_Etot_scaled, test_size=0.20)"
   ]
  },
  {
   "cell_type": "code",
   "execution_count": null,
   "metadata": {},
   "outputs": [],
   "source": []
  },
  {
   "cell_type": "markdown",
   "metadata": {},
   "source": [
    "### Training of a \"simple\" ANN on the training set (atomic coordinates, N=4)\n",
    "\n",
    "This can also be done using `R`, see for instance https://tensorflow.rstudio.com/guide/keras/"
   ]
  },
  {
   "cell_type": "code",
   "execution_count": 12,
   "metadata": {},
   "outputs": [],
   "source": [
    "#from keras.layers import Dropout\n",
    "#from keras.regularizers import l1\n",
    "#from keras.regularizers import l2"
   ]
  },
  {
   "cell_type": "code",
   "execution_count": null,
   "metadata": {},
   "outputs": [],
   "source": []
  },
  {
   "cell_type": "code",
   "execution_count": 44,
   "metadata": {},
   "outputs": [],
   "source": [
    "reset_random_seeds() # reset the random seed\n",
    "\n",
    "ANN_4Au_X1 = models.Sequential()\n",
    "ANN_4Au_X1.add(layers.Dense(360, activation='relu', input_shape=(12,)))\n",
    "\n",
    "#ANN_4Au_X1.add(layers.Dense(360, input_shape=(12,), activation='relu', kernel_regularizer=l1(0.01), bias_regularizer=l1(0.01)))\n",
    "#ANN_4Au_X1.add(Dropout(0.2))\n",
    "\n",
    "ANN_4Au_X1.add(layers.Dense(360, activation='relu'))\n",
    "\n",
    "ANN_4Au_X1.add(layers.Dense(180, activation='relu'))\n",
    "\n",
    "ANN_4Au_X1.add(layers.Dense(90, activation='relu'))\n",
    "\n",
    "ANN_4Au_X1.add(layers.Dense(1, activation='linear'))"
   ]
  },
  {
   "cell_type": "code",
   "execution_count": 45,
   "metadata": {},
   "outputs": [],
   "source": [
    "ANN_4Au_X1.compile(optimizer='adagrad',\n",
    "                   loss='mse',\n",
    "                   metrics=['mean_squared_error'])"
   ]
  },
  {
   "cell_type": "code",
   "execution_count": null,
   "metadata": {},
   "outputs": [],
   "source": []
  },
  {
   "cell_type": "code",
   "execution_count": 46,
   "metadata": {},
   "outputs": [],
   "source": [
    "history_4Au_X1 = ANN_4Au_X1.fit(X_4Au_train, y_4Au_train, \n",
    "                                validation_data=(X_4Au_test, y_4Au_test), \n",
    "                                epochs=800, batch_size=100,\n",
    "                                verbose=0)"
   ]
  },
  {
   "cell_type": "code",
   "execution_count": 47,
   "metadata": {},
   "outputs": [
    {
     "data": {
      "image/png": "[encoded data removed]",
      "text/plain": [
       "<Figure size 432x288 with 1 Axes>"
      ]
     },
     "metadata": {
      "needs_background": "light"
     },
     "output_type": "display_data"
    }
   ],
   "source": [
    "plt.plot(history_4Au_X1.history['loss'], label='taining')\n",
    "plt.plot(history_4Au_X1.history['val_loss'], label='test')\n",
    "plt.ylabel('loss')\n",
    "plt.xlabel('epoch')\n",
    "plt.legend(loc='upper right')\n",
    "plt.show()"
   ]
  },
  {
   "cell_type": "markdown",
   "metadata": {},
   "source": [
    "The training appears to be relatively efficient, but it might certainly be possible to improve this simple initial network `ANN_4Au_X1`; in particular, reducing a potential overfitting-behaviour of `ANN_4Au_X1` could be worth exploring.   "
   ]
  },
  {
   "cell_type": "code",
   "execution_count": 48,
   "metadata": {},
   "outputs": [
    {
     "data": {
      "image/png": "[encoded data removed]",
      "text/plain": [
       "<Figure size 504x504 with 1 Axes>"
      ]
     },
     "metadata": {
      "needs_background": "light"
     },
     "output_type": "display_data"
    }
   ],
   "source": [
    "pred_4Au_test = ANN_4Au_X1.predict(X_4Au_test)\n",
    "pred_4Au_train = ANN_4Au_X1.predict(X_4Au_train)\n",
    "\n",
    "plt.figure(figsize=(7, 7))\n",
    "\n",
    "plt.scatter(y_4Au_train, pred_4Au_train, marker=\"o\",color='#f97306',label='train')\n",
    "plt.scatter(y_4Au_test, pred_4Au_test, marker=\"+\",color='#3f9b0b',label='test')\n",
    "plt.legend(loc='upper left')\n",
    "plt.plot(y_4Au_train, y_4Au_train,color='#00035b')\n",
    "plt.xlabel('True')\n",
    "plt.ylabel('Predicted')\n",
    "\n",
    "plt.show()"
   ]
  },
  {
   "cell_type": "markdown",
   "metadata": {},
   "source": [
    "This plot is encouraging since the simple network `ANN_4Au_X1` already appears to be relatively accurate for low-energy training data: minimising `ANN_4Au_X1` might thus potentialy lead to interesting configurations. \n",
    "\n",
    "I would also be interesting to identify the entries of the data set that are very poorly approximated and potentially discard them form the data set since they appears to be related to high energies.  "
   ]
  },
  {
   "cell_type": "code",
   "execution_count": null,
   "metadata": {},
   "outputs": [],
   "source": []
  },
  {
   "cell_type": "code",
   "execution_count": null,
   "metadata": {},
   "outputs": [],
   "source": []
  }
 ],
 "metadata": {
  "kernelspec": {
   "display_name": "Python 3",
   "language": "python",
   "name": "python3"
  },
  "language_info": {
   "codemirror_mode": {
    "name": "ipython",
    "version": 3
   },
   "file_extension": ".py",
   "mimetype": "text/x-python",
   "name": "python",
   "nbconvert_exporter": "python",
   "pygments_lexer": "ipython3",
   "version": "3.7.7"
  }
 },
 "nbformat": 4,
 "nbformat_minor": 4
}
