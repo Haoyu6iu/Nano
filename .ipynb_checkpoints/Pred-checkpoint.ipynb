{
 "cells": [
  {
   "cell_type": "code",
   "execution_count": 2,
   "metadata": {},
   "outputs": [],
   "source": [
    "import os\n",
    "os.environ['PYTHONHASHSEED']=str(1)\n",
    "\n",
    "import tensorflow as tf\n",
    "import tensorflow.keras as keras\n",
    "from tensorflow.keras import layers \n",
    "from tensorflow.keras import models\n",
    "import random\n",
    "import pandas as pd\n",
    "import numpy as np\n",
    "import sklearn\n",
    "import matplotlib.pyplot as plt\n",
    "from sklearn import preprocessing\n",
    "from sklearn.model_selection import train_test_split\n",
    "import numpy as np\n",
    "import pandas as pd\n",
    "import torch\n",
    "import torch.nn as nn\n",
    "\n",
    "def reset_random_seeds():\n",
    "   os.environ['PYTHONHASHSEED']=str(1)\n",
    "   tf.random.set_seed(1)\n",
    "   np.random.seed(1)\n",
    "   random.seed(1)"
   ]
  },
  {
   "cell_type": "markdown",
   "metadata": {},
   "source": [
    "## Load the data\n",
    "\n",
    "To avoid issues due to confusion between numerical and non-numerical data, the file `Raw_Phys_Descrip.txt` consists of all the numerical physical descriptors (i.e. all the variables except `Config`). The correponding entry of `Config` are directly define in the cell below.    "
   ]
  },
  {
   "cell_type": "code",
   "execution_count": 16,
   "metadata": {},
   "outputs": [],
   "source": [
    "PhyD_Names = ['N', 'infa_C_Au', 'infa_S_Mg', 'infa_S_O', 'cc', 'cs_Mg', 'cs_O', \n",
    "             'ave_GCN', 'csDist_Mg', 'csDist_O', 'Zdist', 'Ecoh', 'Eadh', 'Eb', 'Etot']\n",
    "X_vars = ['N', 'infa_C_Au', 'infa_S_Mg', 'infa_S_O', 'cc', 'cs_Mg', 'cs_O', \n",
    "             'ave_GCN', 'csDist_Mg', 'csDist_O', 'Zdist', 'Eb']\n",
    "\n",
    "PhyD = pd.DataFrame(np.loadtxt('Data/Raw_Phys_Descrip.txt', delimiter=',', dtype=float), columns=PhyD_Names)\n",
    "\n",
    "Config = np.concatenate((np.repeat('1Au',104), np.repeat('2Au',104), np.repeat('3Au',105), \n",
    "                         np.repeat('4Au_a',102), np.repeat('4Au_b',45), np.repeat('4Au_c',103), \n",
    "                         np.repeat('4Au_d',104), np.repeat('4Au_e',105), np.repeat('4Au_f',96), \n",
    "                         np.repeat('5Au_a',103), np.repeat('5Au_b',103), np.repeat('5Au_c',103),\n",
    "                         np.repeat('5Au_d',104), np.repeat('5AU_e',102),\n",
    "                         np.repeat('6Au_a',105), np.repeat('6Au_b',105), \n",
    "                         np.repeat('9Au_a',99), np.repeat('9Au_b',79), \n",
    "                         np.repeat('12Au_a',12), \n",
    "                         np.repeat('24Au_b',56)))\n",
    "\n",
    "Cl_XYZ = pd.DataFrame.to_numpy(pd.read_csv('Data/Cluster_XYZ.csv', header=None, names=range(3*24)))\n",
    "FingerPrints = pd.read_csv('Data/StruFg.csv')\n",
    "Nobs = PhyD.shape[0]"
   ]
  },
  {
   "cell_type": "code",
   "execution_count": 11,
   "metadata": {},
   "outputs": [
    {
     "data": {
      "text/plain": [
       "((1839, 15), (1839, 72), (1839, 15))"
      ]
     },
     "execution_count": 11,
     "metadata": {},
     "output_type": "execute_result"
    }
   ],
   "source": [
    "PhyD.shape, Cl_XYZ.shape, FingerPrints.shape"
   ]
  },
  {
   "cell_type": "code",
   "execution_count": 25,
   "metadata": {},
   "outputs": [],
   "source": [
    "X = pd.concat([PhyD[X_vars], FingerPrints], axis=1).to_numpy()\n",
    "y = PhyD['Etot'].to_numpy()"
   ]
  },
  {
   "cell_type": "code",
   "execution_count": 26,
   "metadata": {},
   "outputs": [],
   "source": [
    "scaler1 = preprocessing.StandardScaler().fit(X) \n",
    "X_scaled = scaler1.transform(X)\n",
    "y_scaled = (y - np.mean(y))/np.std(y)"
   ]
  },
  {
   "cell_type": "code",
   "execution_count": 27,
   "metadata": {},
   "outputs": [],
   "source": [
    "reset_random_seeds()\n",
    "X_train, X_test, y_train, y_test = train_test_split(X_scaled, \n",
    "                                                    y_scaled, test_size=0.20)"
   ]
  },
  {
   "cell_type": "code",
   "execution_count": 29,
   "metadata": {},
   "outputs": [],
   "source": [
    "reset_random_seeds() # reset the random seed\n",
    "\n",
    "ANN_1 = models.Sequential()\n",
    "ANN_1.add(layers.Dense(360, activation='relu', input_shape=(27,)))\n",
    "\n",
    "#ANN_4Au_X1.add(layers.Dense(360, input_shape=(12,), activation='relu', kernel_regularizer=l1(0.01), bias_regularizer=l1(0.01)))\n",
    "#ANN_4Au_X1.add(Dropout(0.2))\n",
    "\n",
    "ANN_1.add(layers.Dense(360, activation='relu'))\n",
    "\n",
    "ANN_1.add(layers.Dense(180, activation='relu'))\n",
    "\n",
    "ANN_1.add(layers.Dense(90, activation='relu'))\n",
    "\n",
    "ANN_1.add(layers.Dense(1, activation='linear'))"
   ]
  },
  {
   "cell_type": "code",
   "execution_count": 30,
   "metadata": {},
   "outputs": [],
   "source": [
    "ANN_1.compile(optimizer='adagrad',\n",
    "                   loss='mse',\n",
    "                   metrics=['mean_squared_error'])"
   ]
  },
  {
   "cell_type": "code",
   "execution_count": 31,
   "metadata": {},
   "outputs": [],
   "source": [
    "history_1 = ANN_1.fit(X_train, y_train, \n",
    "                                validation_data=(X_test, y_test), \n",
    "                                epochs=800, batch_size=100,\n",
    "                                verbose=0)"
   ]
  },
  {
   "cell_type": "code",
   "execution_count": null,
   "metadata": {},
   "outputs": [],
   "source": [
    "plt.plot(history_1.history['loss'], label='taining')\n",
    "plt.plot(history_1.history['val_loss'], label='test')\n",
    "plt.ylabel('loss')\n",
    "plt.xlabel('epoch')\n",
    "plt.legend(loc='upper right')\n",
    "plt.show()"
   ]
  },
  {
   "cell_type": "code",
   "execution_count": null,
   "metadata": {},
   "outputs": [],
   "source": [
    "pred_test = ANN_1.predict(X_test)\n",
    "pred_train = ANN_1.predict(X_train)\n",
    "\n",
    "plt.figure(figsize=(7, 7))\n",
    "\n",
    "plt.scatter(y_train, pred_train, marker=\"o\",color='#f97306',label='train')\n",
    "plt.scatter(y_test, pred_test, marker=\"+\",color='#3f9b0b',label='test')\n",
    "plt.legend(loc='upper left')\n",
    "plt.plot(y_train, y_train,color='#00035b')\n",
    "plt.xlabel('True')\n",
    "plt.ylabel('Predicted')\n",
    "\n",
    "plt.show()"
   ]
  }
 ],
 "metadata": {
  "kernelspec": {
   "display_name": "Python [conda env:root] *",
   "language": "python",
   "name": "conda-root-py"
  },
  "language_info": {
   "codemirror_mode": {
    "name": "ipython",
    "version": 3
   },
   "file_extension": ".py",
   "mimetype": "text/x-python",
   "name": "python",
   "nbconvert_exporter": "python",
   "pygments_lexer": "ipython3",
   "version": "3.7.7"
  }
 },
 "nbformat": 4,
 "nbformat_minor": 4
}
