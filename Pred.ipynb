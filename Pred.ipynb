{
 "cells": [
  {
   "cell_type": "code",
   "execution_count": 2,
   "metadata": {},
   "outputs": [],
   "source": [
    "import os\n",
    "os.environ['PYTHONHASHSEED']=str(1)\n",
    "\n",
    "import tensorflow as tf\n",
    "import tensorflow.keras as keras\n",
    "from tensorflow.keras import layers \n",
    "from tensorflow.keras import models\n",
    "import random\n",
    "import pandas as pd\n",
    "import numpy as np\n",
    "import sklearn\n",
    "import matplotlib.pyplot as plt\n",
    "from sklearn import preprocessing\n",
    "from sklearn.model_selection import train_test_split\n",
    "import numpy as np\n",
    "import pandas as pd\n",
    "import torch\n",
    "import torch.nn as nn\n",
    "\n",
    "def reset_random_seeds():\n",
    "   os.environ['PYTHONHASHSEED']=str(1)\n",
    "   tf.random.set_seed(1)\n",
    "   np.random.seed(1)\n",
    "   random.seed(1)"
   ]
  },
  {
   "cell_type": "markdown",
   "metadata": {},
   "source": [
    "## Load the data\n",
    "\n",
    "To avoid issues due to confusion between numerical and non-numerical data, the file `Raw_Phys_Descrip.txt` consists of all the numerical physical descriptors (i.e. all the variables except `Config`). The correponding entry of `Config` are directly define in the cell below.    "
   ]
  },
  {
   "cell_type": "code",
   "execution_count": 5,
   "metadata": {},
   "outputs": [],
   "source": [
    "PhyD_Names = ['N', 'infa_C_Au', 'infa_S_Mg', 'infa_S_O', 'cc', 'cs_Mg', 'cs_O', \n",
    "             'ave_GCN', 'csDist_Mg', 'csDist_O', 'Zdist', 'Ecoh', 'Eadh', 'Eb', 'Etot']\n",
    "PhyD = np.loadtxt('Data/Raw_Phys_Descrip.txt', delimiter=',', dtype=float)\n",
    "    \n",
    "Config = np.concatenate((np.repeat('1Au',104), np.repeat('2Au',104), np.repeat('3Au',105), \n",
    "                         np.repeat('4Au_a',102), np.repeat('4Au_b',45), np.repeat('4Au_c',103), \n",
    "                         np.repeat('4Au_d',104), np.repeat('4Au_e',105), np.repeat('4Au_f',96), \n",
    "                         np.repeat('5Au_a',103), np.repeat('5Au_b',103), np.repeat('5Au_c',103),\n",
    "                         np.repeat('5Au_d',104), np.repeat('5AU_e',102),\n",
    "                         np.repeat('6Au_a',105), np.repeat('6Au_b',105), \n",
    "                         np.repeat('9Au_a',99), np.repeat('9Au_b',79), \n",
    "                         np.repeat('12Au_a',12), \n",
    "                         np.repeat('24Au_b',56)))\n",
    "\n",
    "Cl_XYZ = pd.DataFrame.to_numpy(pd.read_csv('Data/Cluster_XYZ.csv', header=None, names=range(3*24)))\n",
    "FingerPrints = pd.read_csv('Data/StruFg.csv')\n",
    "Nobs = PhyD.shape[0]"
   ]
  },
  {
   "cell_type": "code",
   "execution_count": 11,
   "metadata": {},
   "outputs": [
    {
     "data": {
      "text/plain": [
       "((1839, 15), (1839, 72), (1839, 15))"
      ]
     },
     "execution_count": 11,
     "metadata": {},
     "output_type": "execute_result"
    }
   ],
   "source": [
    "PhyD.shape, Cl_XYZ.shape, FingerPrints.shape"
   ]
  }
 ],
 "metadata": {
  "kernelspec": {
   "display_name": "Python [conda env:root] *",
   "language": "python",
   "name": "conda-root-py"
  },
  "language_info": {
   "codemirror_mode": {
    "name": "ipython",
    "version": 3
   },
   "file_extension": ".py",
   "mimetype": "text/x-python",
   "name": "python",
   "nbconvert_exporter": "python",
   "pygments_lexer": "ipython3",
   "version": "3.7.7"
  }
 },
 "nbformat": 4,
 "nbformat_minor": 4
}
